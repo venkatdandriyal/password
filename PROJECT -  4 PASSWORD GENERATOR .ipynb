{
 "cells": [
  {
   "cell_type": "code",
   "execution_count": 1,
   "metadata": {},
   "outputs": [],
   "source": [
    "from tkinter import *\n",
    "import pyperclip\n",
    "import random\n",
    "root= Tk()\n",
    "root.geometry(\"400x400\")\n",
    "passstr= StringVar()\n",
    "passlen =IntVar()\n",
    "passlen.set(0)\n",
    "def generate():\n",
    "    pass1 = ['a','b','c','d','e','f','g','h','i','j'\n",
    "            'k','l','m','n','o','p','q','r','s','t',\n",
    "            'u','v','w','x','y','z','A','B','C','D',\n",
    "            'E','F','G','H','I','J','K','L','M','N',\n",
    "            'O','P','Q','R','S','T','U','V','W','X',\n",
    "            'Y','Z','1','2','3','4','5','6','7','8',\n",
    "            '9','0',' ','!','@','#','$','%','^','&',\n",
    "             '*','(',')']\n",
    "    password= \"\"\n",
    "    for x in range(passlen.get()):\n",
    "        password =password + random.choice(pass1)\n",
    "        passstr.set(password)\n",
    "def copytoclipboard():\n",
    "    random_password = passstr.get()\n",
    "    pyperclip.copy(random_password)\n",
    "Label(root, text=\" Password Generator\", font =\"caliber 20 bold\").pack()\n",
    "Label(root, text= \"Enter Password Length\").pack(pady=4)\n",
    "Entry(root, textvariable = passlen).pack(pady= 4)\n",
    "Button(root, text=\"Generate Password\", command=generate).pack(pady=8)\n",
    "Entry(root, textvariable =passstr).pack(pady=4)\n",
    "Button(root, text=\"Copy To Clipboard\",command=copytoclipboard).pack()\n",
    "root.mainloop()"
   ]
  },
  {
   "cell_type": "code",
   "execution_count": null,
   "metadata": {},
   "outputs": [],
   "source": []
  }
 ],
 "metadata": {
  "kernelspec": {
   "display_name": "Python 3",
   "language": "python",
   "name": "python3"
  },
  "language_info": {
   "codemirror_mode": {
    "name": "ipython",
    "version": 3
   },
   "file_extension": ".py",
   "mimetype": "text/x-python",
   "name": "python",
   "nbconvert_exporter": "python",
   "pygments_lexer": "ipython3",
   "version": "3.7.6"
  }
 },
 "nbformat": 4,
 "nbformat_minor": 4
}
